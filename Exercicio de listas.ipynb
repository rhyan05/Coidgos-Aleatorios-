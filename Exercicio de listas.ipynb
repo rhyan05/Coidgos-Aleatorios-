{
  "nbformat": 4,
  "nbformat_minor": 0,
  "metadata": {
    "colab": {
      "provenance": [],
      "include_colab_link": true
    },
    "kernelspec": {
      "name": "python3",
      "display_name": "Python 3"
    },
    "language_info": {
      "name": "python"
    }
  },
  "cells": [
    {
      "cell_type": "markdown",
      "metadata": {
        "id": "view-in-github",
        "colab_type": "text"
      },
      "source": [
        "<a href=\"https://colab.research.google.com/github/rhyan05/Coidgos-Aleatorios-/blob/main/Exercicio%20de%20listas.ipynb\" target=\"_parent\"><img src=\"https://colab.research.google.com/assets/colab-badge.svg\" alt=\"Open In Colab\"/></a>"
      ]
    },
    {
      "cell_type": "markdown",
      "source": [
        "# Atividade 1 - AP 2\n",
        "\n",
        "Equipe:\n",
        "\n",
        "* Gabriel Saldanha Gonçalves Rodrigues, 2301316\n",
        "* Vinicius Lazzarini Fernandes Torquato 2301384\n",
        "* Rhyan Lemos Silveira, 2300621\n",
        "* Guilherme Marinho Bueno Ferreira, 2300543\n",
        "* Johnathan Silva Francisco, 2301490\n",
        "\n",
        "A entrega deve conter os códigos, os testes e a análise de complexidade de cada algoritmo.\n",
        "\n",
        "Nenhuma biblioteca pode ser usada nas implementações."
      ],
      "metadata": {
        "id": "PpzHh4rkcMzH"
      }
    },
    {
      "cell_type": "code",
      "execution_count": null,
      "metadata": {
        "id": "MgREJLKIbudL"
      },
      "outputs": [],
      "source": [
        "import numpy as np"
      ]
    },
    {
      "cell_type": "markdown",
      "source": [
        "# Exercício 1:\n",
        "\n",
        "Considere uma lista de valores numéricos inteiros, por exemplo lista = [4, 3, -3, 4, -5]. Implemente um código que apresente a subsequência que apresenta a maior soma dentro da lista. Qual a complexidade temporal do algoritmo elaborado?\n",
        "\n",
        "Exemplo:\n",
        "\n",
        "lista = [4, 3, -3, 4, -5]\n",
        "\n",
        "resultado: [4, 3, -3, 4] => soma = 8"
      ],
      "metadata": {
        "id": "yC7RGe3IbySZ"
      }
    },
    {
      "cell_type": "code",
      "source": [
        "# Lista para teste do algoritmo de subsequência com maior soma\n",
        "N = 1000\n",
        "\n",
        "np.random.seed(0)\n",
        "lista = list((1000*np.random.randn(N)).astype(int))"
      ],
      "metadata": {
        "id": "uCqnyfblbxVo"
      },
      "execution_count": null,
      "outputs": []
    },
    {
      "cell_type": "code",
      "source": [
        "def subsequencia(lista):\n",
        "  soma = lista[0]\n",
        "  sub_seq = []\n",
        "\n",
        "  for x in range(len(lista)):\n",
        "    somaAux = lista[x]\n",
        "    for z in range(x + 1, len(lista)):\n",
        "      somaAux += lista[z]\n",
        "      if somaAux > soma:\n",
        "        soma = somaAux\n",
        "        sub_seq = lista[x:z+1]\n",
        "\n",
        "  return sub_seq, soma\n",
        "\n",
        "sub_s, som = subsequencia(lista)\n",
        "print(f\"Resultado: {sub_s} => Soma = {som}\")"
      ],
      "metadata": {
        "id": "DpTcoV-5cnD3",
        "colab": {
          "base_uri": "https://localhost:8080/"
        },
        "outputId": "1307d4f2-b0ef-4f2c-f508-64a9b7ca2be8"
      },
      "execution_count": null,
      "outputs": [
        {
          "output_type": "stream",
          "name": "stdout",
          "text": [
            "Resultado: [1488, 1895, 1178, -179, -1070, 1054, -403, 1222, 208, 976, 356, 706, 10, 1785, 126, 401, 1883, -1347, -1270, 969, -1173, 1943, -413, -747, 1922, 1480, 1867, 906, -861, 1910, -268, 802, 947, -155, 614, 922, 376, -1099, 298, 1326, -694, -149, -435, 1849, 672, 407, -769, 539, -674, 31, -635, 676, 576, -208, 396, -1093, -1491, 439, 166, 635, 2383, 944, -912, 1117] => Soma = 24355\n"
          ]
        }
      ]
    },
    {
      "cell_type": "markdown",
      "source": [
        "Visto que, a lista é percorrida duas vezes, no segundo loop, o valor utilizado no primeiro loop é desconsiderado. Desta forma, a complexidade temporal do algoritmo acima seria N*(N- 1) => N² - N => O(N²)."
      ],
      "metadata": {
        "id": "JoZKGmqYKVcx"
      }
    },
    {
      "cell_type": "markdown",
      "source": [
        "# Exercício 2:\n",
        "\n",
        "Considere uma lista na qual cada elemento é um par de valores numéricos, por exemplo lista = [[0, 1], [2, 2], [1, 4], [3, 0]], onde cada par de valores representa um ponto 2D. Implemente um código que apresente todas as possibilidades de percorrer todos os pontos e a distância total para o percurso total. Qual a complexidade temporal do algoritmo elaborado?\n",
        "\n",
        "Exemplo:\n",
        "\n",
        "pontos = [[0, 1], [2, 2], [1, 4], [3, 0]]\n",
        "\n",
        "resultado:\n",
        "\n",
        "[[0, 1], [2, 2], [1, 4], [3, 0]] => distância =\n",
        "\n",
        "[[0, 1], [2, 2], [3, 0], [1, 4]] => distância =\n",
        "\n",
        "[[0, 1], [3, 0], [1, 4], [2, 2]] => distância =\n",
        "\n",
        "[[0, 1], [3, 0], [2, 2], [1, 4]] => distância =\n",
        "\n",
        ".\n",
        "\n",
        ".\n",
        "\n",
        "."
      ],
      "metadata": {
        "id": "UUPAF0L3cBz8"
      }
    },
    {
      "cell_type": "code",
      "source": [
        "# Lista para teste do algoritmo de menor percurso\n",
        "N = 5\n",
        "\n",
        "np.random.seed(4)\n",
        "pontos = ((10*np.random.rand(N,2)).astype(int)).tolist()\n",
        "print(pontos)"
      ],
      "metadata": {
        "id": "J-RLcQ6gcLm3",
        "colab": {
          "base_uri": "https://localhost:8080/"
        },
        "outputId": "a71a6215-5d15-47a7-ac1c-262f420a40df"
      },
      "execution_count": null,
      "outputs": [
        {
          "output_type": "stream",
          "name": "stdout",
          "text": [
            "[[9, 5], [9, 7], [6, 2], [9, 0], [2, 4]]\n"
          ]
        }
      ]
    },
    {
      "cell_type": "code",
      "source": [
        "def calcular_distancia(p1, p2):\n",
        "    return ((p2[0] - p1[0])**2 + (p2[1] - p1[1])**2)**0.5\n",
        "\n",
        "def calcular_distancia_total(percurso):\n",
        "    distancia_total = 0\n",
        "    for i in range(len(percurso) - 1): # funcao de soma de lista para somar o caminho\n",
        "        distancia_total += calcular_distancia(percurso[i], percurso[i+1])\n",
        "    return distancia_total\n",
        "\n",
        "def gerar_caminhos(pontos):\n",
        "  if len(pontos) == 1: # caso base para retorna o ultimo ponto do percurso atual\n",
        "      return [pontos]\n",
        "\n",
        "  caminhos = []\n",
        "  for i in range(len(pontos)):\n",
        "      ponto_atual = pontos[i] # pivo para gerar os diferentes começos da parte atual\n",
        "      pontos_restantes = pontos[:i] + pontos[i+1:] # pontos que faltam\n",
        "      sub_caminhos = gerar_caminhos(pontos_restantes) # montar os percursos com os ponto restantes\n",
        "      for sub_caminho in sub_caminhos: # adicionar os sub caminhos gerados na recursao ao caminho atual principal\n",
        "          caminhos.append([ponto_atual] + sub_caminho)\n",
        "\n",
        "  return caminhos\n",
        "\n",
        "def menor_percurso(pontos):\n",
        "    caminhos = gerar_caminhos(pontos) # gerar os caminhos, pega cada ponto e adiciona com os percursos possiveis recursivamente\n",
        "    for caminho in caminhos: # passa pelos caminhos gerados para realizar a soma da distancia\n",
        "        distancia = calcular_distancia_total(caminho) # calcula a distancia total de cada percurso\n",
        "        print(f'{caminho} => distância = {distancia}') # adiciona nos resultados\n",
        "    print(f'A quantidade de caminhos possiveis é {len(caminhos)}')\n",
        "\n",
        "menor_percurso(pontos)"
      ],
      "metadata": {
        "id": "ybLtAX_odAvK",
        "colab": {
          "base_uri": "https://localhost:8080/"
        },
        "outputId": "900ab841-e215-4d43-ce58-683090e541af"
      },
      "execution_count": null,
      "outputs": [
        {
          "output_type": "stream",
          "name": "stdout",
          "text": [
            "[[9, 5], [9, 7], [6, 2], [9, 0], [2, 4]] => distância = 19.49876091860784\n",
            "[[9, 5], [9, 7], [6, 2], [2, 4], [9, 0]] => distância = 20.365345598143428\n",
            "[[9, 5], [9, 7], [9, 0], [6, 2], [2, 4]] => distância = 17.077687230463567\n",
            "[[9, 5], [9, 7], [9, 0], [2, 4], [6, 2]] => distância = 21.53439370329813\n",
            "[[9, 5], [9, 7], [2, 4], [6, 2], [9, 0]] => distância = 17.693460336327476\n",
            "[[9, 5], [9, 7], [2, 4], [9, 0], [6, 2]] => distância = 21.283582129626446\n",
            "[[9, 5], [6, 2], [9, 7], [9, 0], [2, 4]] => distância = 25.135850330263136\n",
            "[[9, 5], [6, 2], [9, 7], [2, 4], [9, 0]] => distância = 25.751623436127044\n",
            "[[9, 5], [6, 2], [9, 0], [9, 7], [2, 4]] => distância = 22.46396506844718\n",
            "[[9, 5], [6, 2], [9, 0], [2, 4], [9, 7]] => distância = 23.52622281674573\n",
            "[[9, 5], [6, 2], [2, 4], [9, 7], [9, 0]] => distância = 23.330549747982772\n",
            "[[9, 5], [6, 2], [2, 4], [9, 0], [9, 7]] => distância = 23.777034390417413\n",
            "[[9, 5], [9, 0], [9, 7], [6, 2], [2, 4]] => distância = 22.30308784984488\n",
            "[[9, 5], [9, 0], [9, 7], [2, 4], [6, 2]] => distância = 24.08790906086349\n",
            "[[9, 5], [9, 0], [6, 2], [9, 7], [2, 4]] => distância = 22.0522762761732\n",
            "[[9, 5], [9, 0], [6, 2], [2, 4], [9, 7]] => distância = 20.693460336327476\n",
            "[[9, 5], [9, 0], [2, 4], [9, 7], [6, 2]] => distância = 26.508982749007757\n",
            "[[9, 5], [9, 0], [2, 4], [6, 2], [9, 7]] => distância = 23.365345598143428\n",
            "[[9, 5], [2, 4], [9, 7], [6, 2], [9, 0]] => distância = 24.12334408803867\n",
            "[[9, 5], [2, 4], [9, 7], [9, 0], [6, 2]] => distância = 25.292392193193372\n",
            "[[9, 5], [2, 4], [6, 2], [9, 7], [9, 0]] => distância = 24.374155661710354\n",
            "[[9, 5], [2, 4], [6, 2], [9, 0], [9, 7]] => distância = 22.148755042329043\n",
            "[[9, 5], [2, 4], [9, 0], [9, 7], [6, 2]] => distância = 27.964277455009324\n",
            "[[9, 5], [2, 4], [9, 0], [6, 2], [9, 7]] => distância = 24.56982873047331\n",
            "[[9, 7], [9, 5], [6, 2], [9, 0], [2, 4]] => distância = 17.91044971088182\n",
            "[[9, 7], [9, 5], [6, 2], [2, 4], [9, 0]] => distância = 18.777034390417413\n",
            "[[9, 7], [9, 5], [9, 0], [6, 2], [2, 4]] => distância = 15.07768723046357\n",
            "[[9, 7], [9, 5], [9, 0], [2, 4], [6, 2]] => distância = 19.53439370329813\n",
            "[[9, 7], [9, 5], [2, 4], [6, 2], [9, 0]] => distância = 17.148755042329043\n",
            "[[9, 7], [9, 5], [2, 4], [9, 0], [6, 2]] => distância = 20.738876835628012\n",
            "[[9, 7], [6, 2], [9, 5], [9, 0], [2, 4]] => distância = 23.135850330263136\n",
            "[[9, 7], [6, 2], [9, 5], [2, 4], [9, 0]] => distância = 25.20691814212861\n",
            "[[9, 7], [6, 2], [9, 0], [9, 5], [2, 4]] => distância = 21.507570982174766\n",
            "[[9, 7], [6, 2], [9, 0], [2, 4], [9, 5]] => distância = 24.569828730473315\n",
            "[[9, 7], [6, 2], [2, 4], [9, 5], [9, 0]] => distância = 22.374155661710354\n",
            "[[9, 7], [6, 2], [2, 4], [9, 0], [9, 5]] => distância = 23.365345598143428\n",
            "[[9, 7], [9, 0], [9, 5], [6, 2], [2, 4]] => distância = 20.714776642118863\n",
            "[[9, 7], [9, 0], [9, 5], [2, 4], [6, 2]] => distância = 23.543203766865055\n",
            "[[9, 7], [9, 0], [6, 2], [9, 5], [2, 4]] => distância = 21.91925977444875\n",
            "[[9, 7], [9, 0], [6, 2], [2, 4], [9, 5]] => distância = 22.148755042329043\n",
            "[[9, 7], [9, 0], [2, 4], [9, 5], [6, 2]] => distância = 26.37596624728331\n",
            "[[9, 7], [9, 0], [2, 4], [6, 2], [9, 5]] => distância = 23.777034390417413\n",
            "[[9, 7], [2, 4], [9, 5], [6, 2], [9, 0]] => distância = 22.535032880312656\n",
            "[[9, 7], [2, 4], [9, 5], [9, 0], [6, 2]] => distância = 23.292392193193372\n",
            "[[9, 7], [2, 4], [6, 2], [9, 5], [9, 0]] => distância = 21.330549747982772\n",
            "[[9, 7], [2, 4], [6, 2], [9, 0], [9, 5]] => distância = 20.693460336327476\n",
            "[[9, 7], [2, 4], [9, 0], [9, 5], [6, 2]] => distância = 24.92067154128174\n",
            "[[9, 7], [2, 4], [9, 0], [6, 2], [9, 5]] => distância = 23.52622281674573\n",
            "[[6, 2], [9, 5], [9, 7], [9, 0], [2, 4]] => distância = 21.304898435417833\n",
            "[[6, 2], [9, 5], [9, 7], [2, 4], [9, 0]] => distância = 21.92067154128174\n",
            "[[6, 2], [9, 5], [9, 0], [9, 7], [2, 4]] => distância = 23.858413792983193\n",
            "[[6, 2], [9, 5], [9, 0], [2, 4], [9, 7]] => distância = 24.92067154128174\n",
            "[[6, 2], [9, 5], [2, 4], [9, 7], [9, 0]] => distância = 25.929481604848668\n",
            "[[6, 2], [9, 5], [2, 4], [9, 0], [9, 7]] => distância = 26.37596624728331\n",
            "[[6, 2], [9, 7], [9, 5], [9, 0], [2, 4]] => distância = 20.893209643143848\n",
            "[[6, 2], [9, 7], [9, 5], [2, 4], [9, 0]] => distância = 22.964277455009324\n",
            "[[6, 2], [9, 7], [9, 0], [9, 5], [2, 4]] => distância = 24.902019706710774\n",
            "[[6, 2], [9, 7], [9, 0], [2, 4], [9, 5]] => distância = 27.964277455009324\n",
            "[[6, 2], [9, 7], [2, 4], [9, 5], [9, 0]] => distância = 25.517792812574683\n",
            "[[6, 2], [9, 7], [2, 4], [9, 0], [9, 5]] => distância = 26.508982749007757\n",
            "[[6, 2], [9, 0], [9, 5], [9, 7], [2, 4]] => distância = 18.221324381327896\n",
            "[[6, 2], [9, 0], [9, 5], [2, 4], [9, 7]] => distância = 23.292392193193372\n",
            "[[6, 2], [9, 0], [9, 7], [9, 5], [2, 4]] => distância = 19.676619087329463\n",
            "[[6, 2], [9, 0], [9, 7], [2, 4], [9, 5]] => distância = 25.292392193193372\n",
            "[[6, 2], [9, 0], [2, 4], [9, 5], [9, 7]] => distância = 20.738876835628012\n",
            "[[6, 2], [9, 0], [2, 4], [9, 7], [9, 5]] => distância = 21.283582129626446\n",
            "[[6, 2], [2, 4], [9, 5], [9, 7], [9, 0]] => distância = 20.543203766865055\n",
            "[[6, 2], [2, 4], [9, 5], [9, 0], [9, 7]] => distância = 23.543203766865055\n",
            "[[6, 2], [2, 4], [9, 7], [9, 5], [9, 0]] => distância = 19.08790906086349\n",
            "[[6, 2], [2, 4], [9, 7], [9, 0], [9, 5]] => distância = 24.08790906086349\n",
            "[[6, 2], [2, 4], [9, 0], [9, 5], [9, 7]] => distância = 19.53439370329813\n",
            "[[6, 2], [2, 4], [9, 0], [9, 7], [9, 5]] => distância = 21.53439370329813\n",
            "[[9, 0], [9, 5], [9, 7], [6, 2], [2, 4]] => distância = 17.30308784984488\n",
            "[[9, 0], [9, 5], [9, 7], [2, 4], [6, 2]] => distância = 19.08790906086349\n",
            "[[9, 0], [9, 5], [6, 2], [9, 7], [2, 4]] => distância = 22.68936568782849\n",
            "[[9, 0], [9, 5], [6, 2], [2, 4], [9, 7]] => distância = 21.330549747982772\n",
            "[[9, 0], [9, 5], [2, 4], [9, 7], [6, 2]] => distância = 25.517792812574683\n",
            "[[9, 0], [9, 5], [2, 4], [6, 2], [9, 7]] => distância = 22.374155661710354\n",
            "[[9, 0], [9, 7], [9, 5], [6, 2], [2, 4]] => distância = 17.714776642118863\n",
            "[[9, 0], [9, 7], [9, 5], [2, 4], [6, 2]] => distância = 20.543203766865055\n",
            "[[9, 0], [9, 7], [6, 2], [9, 5], [2, 4]] => distância = 24.144660393830062\n",
            "[[9, 0], [9, 7], [6, 2], [2, 4], [9, 5]] => distância = 24.374155661710354\n",
            "[[9, 0], [9, 7], [2, 4], [9, 5], [6, 2]] => distância = 25.929481604848668\n",
            "[[9, 0], [9, 7], [2, 4], [6, 2], [9, 5]] => distância = 23.330549747982772\n",
            "[[9, 0], [6, 2], [9, 5], [9, 7], [2, 4]] => distância = 17.46396506844718\n",
            "[[9, 0], [6, 2], [9, 5], [2, 4], [9, 7]] => distância = 22.535032880312656\n",
            "[[9, 0], [6, 2], [9, 7], [9, 5], [2, 4]] => distância = 18.507570982174766\n",
            "[[9, 0], [6, 2], [9, 7], [2, 4], [9, 5]] => distância = 24.123344088038674\n",
            "[[9, 0], [6, 2], [2, 4], [9, 5], [9, 7]] => distância = 17.148755042329043\n",
            "[[9, 0], [6, 2], [2, 4], [9, 7], [9, 5]] => distância = 17.693460336327476\n",
            "[[9, 0], [2, 4], [9, 5], [9, 7], [6, 2]] => distância = 22.964277455009324\n",
            "[[9, 0], [2, 4], [9, 5], [6, 2], [9, 7]] => distância = 25.206918142128607\n",
            "[[9, 0], [2, 4], [9, 7], [9, 5], [6, 2]] => distância = 21.92067154128174\n",
            "[[9, 0], [2, 4], [9, 7], [6, 2], [9, 5]] => distância = 25.75162343612704\n",
            "[[9, 0], [2, 4], [6, 2], [9, 5], [9, 7]] => distância = 18.777034390417413\n",
            "[[9, 0], [2, 4], [6, 2], [9, 7], [9, 5]] => distância = 20.365345598143428\n",
            "[[2, 4], [9, 5], [9, 7], [6, 2], [9, 0]] => distância = 18.507570982174766\n",
            "[[2, 4], [9, 5], [9, 7], [9, 0], [6, 2]] => distância = 19.676619087329463\n",
            "[[2, 4], [9, 5], [6, 2], [9, 7], [9, 0]] => distância = 24.14466039383006\n",
            "[[2, 4], [9, 5], [6, 2], [9, 0], [9, 7]] => distância = 21.919259774448747\n",
            "[[2, 4], [9, 5], [9, 0], [9, 7], [6, 2]] => distância = 24.902019706710774\n",
            "[[2, 4], [9, 5], [9, 0], [6, 2], [9, 7]] => distância = 21.507570982174766\n",
            "[[2, 4], [9, 7], [9, 5], [6, 2], [9, 0]] => distância = 17.46396506844718\n",
            "[[2, 4], [9, 7], [9, 5], [9, 0], [6, 2]] => distância = 18.221324381327896\n",
            "[[2, 4], [9, 7], [6, 2], [9, 5], [9, 0]] => distância = 22.689365687828495\n",
            "[[2, 4], [9, 7], [6, 2], [9, 0], [9, 5]] => distância = 22.0522762761732\n",
            "[[2, 4], [9, 7], [9, 0], [9, 5], [6, 2]] => distância = 23.858413792983193\n",
            "[[2, 4], [9, 7], [9, 0], [6, 2], [9, 5]] => distância = 22.46396506844718\n",
            "[[2, 4], [6, 2], [9, 5], [9, 7], [9, 0]] => distância = 17.714776642118863\n",
            "[[2, 4], [6, 2], [9, 5], [9, 0], [9, 7]] => distância = 20.714776642118863\n",
            "[[2, 4], [6, 2], [9, 7], [9, 5], [9, 0]] => distância = 17.30308784984488\n",
            "[[2, 4], [6, 2], [9, 7], [9, 0], [9, 5]] => distância = 22.30308784984488\n",
            "[[2, 4], [6, 2], [9, 0], [9, 5], [9, 7]] => distância = 15.07768723046357\n",
            "[[2, 4], [6, 2], [9, 0], [9, 7], [9, 5]] => distância = 17.077687230463567\n",
            "[[2, 4], [9, 0], [9, 5], [9, 7], [6, 2]] => distância = 20.893209643143848\n",
            "[[2, 4], [9, 0], [9, 5], [6, 2], [9, 7]] => distância = 23.135850330263132\n",
            "[[2, 4], [9, 0], [9, 7], [9, 5], [6, 2]] => distância = 21.304898435417833\n",
            "[[2, 4], [9, 0], [9, 7], [6, 2], [9, 5]] => distância = 25.135850330263132\n",
            "[[2, 4], [9, 0], [6, 2], [9, 5], [9, 7]] => distância = 17.910449710881824\n",
            "[[2, 4], [9, 0], [6, 2], [9, 7], [9, 5]] => distância = 19.49876091860784\n",
            "A quantidade de caminhos possiveis é 120\n"
          ]
        }
      ]
    },
    {
      "cell_type": "markdown",
      "source": [
        "A complexidade temporal do algoritmo é O(N!), pois a lista é feita considerando a permutação como base."
      ],
      "metadata": {
        "id": "7FS4gPGMTED8"
      }
    },
    {
      "cell_type": "code",
      "source": [
        "import numpy as np\n",
        "\n",
        "# Função para calcular a distância entre dois pontos\n",
        "def calcular_distancia(p1, p2):\n",
        "    return ((p2[0] - p1[0])**2 + (p2[1] - p1[1])**2)**0.5\n",
        "\n",
        "# Função para calcular a distância total de um percurso\n",
        "def calcular_distancia_total(percurso):\n",
        "    distancia_total = 0\n",
        "    for i in range(len(percurso) - 1):  # Soma as distâncias entre os pontos do percurso\n",
        "        distancia_total += calcular_distancia(percurso[i], percurso[i+1])\n",
        "    return distancia_total\n",
        "\n",
        "# Função recursiva para gerar todos os caminhos possíveis entre os pontos\n",
        "def gerar_caminhos(pontos):\n",
        "    if len(pontos) == 1:  # Caso base: retorna o último ponto do percurso atual\n",
        "        return [pontos]\n",
        "\n",
        "    caminhos = []\n",
        "    for i in range(len(pontos)):\n",
        "        ponto_atual = pontos[i]  # Escolhe o ponto atual\n",
        "        pontos_restantes = pontos[:i] + pontos[i+1:]  # Resto dos pontos\n",
        "        sub_caminhos = gerar_caminhos(pontos_restantes)  # Gera subcaminhos recursivamente\n",
        "        for sub_caminho in sub_caminhos:  # Combina o ponto atual com os subcaminhos gerados\n",
        "            caminhos.append([ponto_atual] + sub_caminho)\n",
        "\n",
        "    return caminhos\n",
        "\n",
        "# Função para encontrar o menor percurso\n",
        "def menor_percurso(pontos):\n",
        "    caminhos = gerar_caminhos(pontos)  # Gera todos os caminhos possíveis\n",
        "    menor_distancia = float('inf')\n",
        "    melhor_caminho = None\n",
        "\n",
        "    for caminho in caminhos:  # Calcula a distância total de cada caminho\n",
        "        distancia = calcular_distancia_total(caminho)\n",
        "        if distancia < menor_distancia:  # Verifica se a distância atual é menor\n",
        "            menor_distancia = distancia\n",
        "            melhor_caminho = caminho\n",
        "\n",
        "    return melhor_caminho, menor_distancia, len(caminhos)\n",
        "\n",
        "# Gerar uma lista de pontos para teste\n",
        "N = 5\n",
        "np.random.seed(4)\n",
        "pontos = ((10 * np.random.rand(N, 2)).astype(int)).tolist()\n",
        "\n",
        "# Encontrar o menor percurso e exibir o resultado\n",
        "melhor_caminho, menor_distancia, quantidade_caminhos = menor_percurso(pontos)\n",
        "\n",
        "# Exibir os resultados\n",
        "print(f\"Pontos: {pontos}\")\n",
        "print(f\"Melhor caminho: {melhor_caminho}\")\n",
        "print(f\"Menor distância: {menor_distancia}\")\n",
        "print(f\"Quantidade de caminhos possíveis: {quantidade_caminhos}\")\n"
      ],
      "metadata": {
        "id": "tPazX4YURInx",
        "outputId": "6380a0d4-17d8-42ac-ee97-6dc6f23646e2",
        "colab": {
          "base_uri": "https://localhost:8080/"
        }
      },
      "execution_count": 1,
      "outputs": [
        {
          "output_type": "stream",
          "name": "stdout",
          "text": [
            "Pontos: [[9, 5], [9, 7], [6, 2], [9, 0], [2, 4]]\n",
            "Melhor caminho: [[9, 7], [9, 5], [9, 0], [6, 2], [2, 4]]\n",
            "Menor distância: 15.07768723046357\n",
            "Quantidade de caminhos possíveis: 120\n"
          ]
        }
      ]
    }
  ]
}